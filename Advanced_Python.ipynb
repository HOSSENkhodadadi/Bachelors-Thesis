{
  "nbformat": 4,
  "nbformat_minor": 0,
  "metadata": {
    "colab": {
      "provenance": [],
      "authorship_tag": "ABX9TyM3nINJbaooPpjXxzTAxFc/",
      "include_colab_link": true
    },
    "kernelspec": {
      "name": "python3",
      "display_name": "Python 3"
    },
    "language_info": {
      "name": "python"
    }
  },
  "cells": [
    {
      "cell_type": "markdown",
      "metadata": {
        "id": "view-in-github",
        "colab_type": "text"
      },
      "source": [
        "<a href=\"https://colab.research.google.com/github/HOSSENkhodadadi/Bachelors-Thesis/blob/main/Advanced_Python.ipynb\" target=\"_parent\"><img src=\"https://colab.research.google.com/assets/colab-badge.svg\" alt=\"Open In Colab\"/></a>"
      ]
    },
    {
      "cell_type": "markdown",
      "source": [
        "#1.Functions\n",
        "##Prompt: shortly explain how/why a function can be defined within another, in python. provide one exmaple."
      ],
      "metadata": {
        "id": "eyR2fdV-uZ4X"
      }
    },
    {
      "cell_type": "code",
      "execution_count": null,
      "metadata": {
        "id": "fIACm9FXlrDw"
      },
      "outputs": [],
      "source": [
        "#count number of evens in a list\n",
        "def count_even(nums:list[int])-> int:\n",
        "    '''\n",
        "    counts number of even items inside a list\n",
        "    '''\n",
        "    def is_even(num:int)-> bool:\n",
        "        return num %2 == 0\n",
        "\n",
        "    count = 0\n",
        "    for item in nums:\n",
        "        if is_even(item):\n",
        "            count += 1\n",
        "    return count"
      ]
    },
    {
      "cell_type": "code",
      "source": [
        "#Test\n",
        "mlist = [x for x in range(100)]\n",
        "count_even(mlist)"
      ],
      "metadata": {
        "colab": {
          "base_uri": "https://localhost:8080/"
        },
        "id": "98WRjF3-xNQs",
        "outputId": "2e805ef8-2853-41d9-9228-4d9486db8a2f"
      },
      "execution_count": null,
      "outputs": [
        {
          "output_type": "execute_result",
          "data": {
            "text/plain": [
              "50"
            ]
          },
          "metadata": {},
          "execution_count": 7
        }
      ]
    },
    {
      "cell_type": "code",
      "source": [
        "#Got the point?\n",
        "def make_multiplier(x):\n",
        "    def multiplier(n):\n",
        "        return x * n\n",
        "    return multiplier\n",
        "\n",
        "double = make_multiplier(2)\n",
        "print(double(5))  # Output: 10"
      ],
      "metadata": {
        "colab": {
          "base_uri": "https://localhost:8080/"
        },
        "id": "Mp-AaNvM2Cml",
        "outputId": "ec98ea9d-a5da-403b-d2c3-1fbe9704f820"
      },
      "execution_count": null,
      "outputs": [
        {
          "output_type": "stream",
          "name": "stdout",
          "text": [
            "10\n"
          ]
        }
      ]
    },
    {
      "cell_type": "code",
      "source": [
        "# use \"\"\" functionaly description\"\"\"\n",
        "def is_even(num:int)-> bool:\n",
        "        return num %2 == 0\n",
        "\n",
        "def any_even_in_list(nums: list[int])-> bool:\n",
        "    '''\n",
        "    retuns true if ANY of numbers inside the list is even\n",
        "    '''\n",
        "    for item in nums:\n",
        "        if is_even(item):\n",
        "            return True\n",
        "    return False"
      ],
      "metadata": {
        "id": "7VD55saIx7eE"
      },
      "execution_count": null,
      "outputs": []
    },
    {
      "cell_type": "code",
      "source": [
        "#Test\n",
        "mlist = [x for x in range(100)]\n",
        "any_even_in_list(mlist)"
      ],
      "metadata": {
        "colab": {
          "base_uri": "https://localhost:8080/"
        },
        "id": "IzpSJWfJy3Yr",
        "outputId": "3cef7353-6e5c-49ea-b61f-bf9075b21757"
      },
      "execution_count": null,
      "outputs": [
        {
          "output_type": "execute_result",
          "data": {
            "text/plain": [
              "True"
            ]
          },
          "metadata": {},
          "execution_count": 10
        }
      ]
    },
    {
      "cell_type": "code",
      "source": [
        "# Placeholder, exercise refactoring vs variable renaming using your IDE\n",
        "def is_even(num:int)-> bool:\n",
        "    return num%2 == 0\n",
        "def get_odds(nums: list[int]) -> list[int]:\n",
        "    '''\n",
        "    returns a list of all odd numbers included in the input list\n",
        "    '''\n",
        "    odd_nums = []\n",
        "    for item in nums:\n",
        "        if not is_even(item):\n",
        "            odd_nums.append(item)\n",
        "    return odd_nums"
      ],
      "metadata": {
        "id": "kLBIf39nzjsG"
      },
      "execution_count": null,
      "outputs": []
    },
    {
      "cell_type": "code",
      "source": [
        "#Test\n",
        "get_odds([x for x in range(20)])"
      ],
      "metadata": {
        "colab": {
          "base_uri": "https://localhost:8080/"
        },
        "id": "LCYvh6bW1weX",
        "outputId": "86061cd6-3003-4969-a084-fdc4ef0ed68e"
      },
      "execution_count": null,
      "outputs": [
        {
          "output_type": "execute_result",
          "data": {
            "text/plain": [
              "[1, 3, 5, 7, 9, 11, 13, 15, 17, 19]"
            ]
          },
          "metadata": {},
          "execution_count": 24
        }
      ]
    },
    {
      "cell_type": "code",
      "source": [
        "# Tuples in functions\n",
        "def is_even(num:int)-> bool:\n",
        "    return num%2 == 0\n",
        "def get_odds_count(nums: list[int]) -> list[int]:\n",
        "    '''\n",
        "    returns a list of all odd numbers included in the input list\n",
        "    '''\n",
        "    odd_nums = []\n",
        "    count = 0\n",
        "\n",
        "    for item in nums:\n",
        "        if not is_even(item):\n",
        "            odd_nums.append(item)\n",
        "            count += 1\n",
        "\n",
        "    return count, odd_nums"
      ],
      "metadata": {
        "id": "edG8U6Yz5KIi"
      },
      "execution_count": null,
      "outputs": []
    },
    {
      "cell_type": "code",
      "source": [
        "#Test\n",
        "x = get_odds_count([x for x in range(20)])\n",
        "print(type(x), x, sep = ' ++ ')"
      ],
      "metadata": {
        "colab": {
          "base_uri": "https://localhost:8080/"
        },
        "id": "5t_yaw6G5dAP",
        "outputId": "8b4c366e-2d09-43ea-e3d4-91a62cc65ed3"
      },
      "execution_count": null,
      "outputs": [
        {
          "output_type": "stream",
          "name": "stdout",
          "text": [
            "<class 'tuple'> ++ (10, [1, 3, 5, 7, 9, 11, 13, 15, 17, 19])\n"
          ]
        }
      ]
    },
    {
      "cell_type": "code",
      "source": [
        "# work with dictionaries, how to extract insight from dictionaries.\n",
        "def donation_analizer(dons:dict[str:int]):\n",
        "    total = sum(dons.values())\n",
        "    count = len(dons)\n",
        "    max_donator = max(dons, key = dons.get)\n",
        "    avg = total/count\n",
        "    return total, count, max_donator\n",
        "    # for key, value in don.items():\n",
        "    #     print(key, value)"
      ],
      "metadata": {
        "id": "eniHZJ9j8SXm"
      },
      "execution_count": null,
      "outputs": []
    },
    {
      "cell_type": "code",
      "source": [
        "#Test\n",
        "donations = {'jack':100, 'jill':200, 'john':300, 'james':400}\n",
        "_,_, max_donator = donation_analizer(donations)\n",
        "print(max_donator, 'is differnt from', max(donations), 'second one gets max based on alphabetical order')\\"
      ],
      "metadata": {
        "colab": {
          "base_uri": "https://localhost:8080/"
        },
        "id": "SgOvFNLrA21f",
        "outputId": "0c27c88d-7212-49a5-f9be-45e66706b6c3"
      },
      "execution_count": null,
      "outputs": [
        {
          "output_type": "stream",
          "name": "stdout",
          "text": [
            "james is differnt from john\n"
          ]
        }
      ]
    },
    {
      "cell_type": "markdown",
      "source": [
        "##Write random number guesser in python!"
      ],
      "metadata": {
        "id": "WBqOiHG8pK-h"
      }
    },
    {
      "cell_type": "code",
      "source": [
        "# Procedural vs functional programming\n",
        "from random import randint\n",
        "guess = 100\n",
        "rand_num = randint(1, 20)\n",
        "while guess != rand_num:\n",
        "    guess = int(input('Guess a number between 1 and 20: '))\n",
        "    if guess > rand_num:\n",
        "        print('Too high')\n",
        "    elif guess < rand_num:\n",
        "        print('Too low')\n",
        "    else:\n",
        "        print('Correct')"
      ],
      "metadata": {
        "colab": {
          "base_uri": "https://localhost:8080/"
        },
        "id": "tMMkqz4JENGW",
        "outputId": "10632e1c-1842-40f7-82f2-c8bf5731ee30"
      },
      "execution_count": null,
      "outputs": [
        {
          "output_type": "stream",
          "name": "stdout",
          "text": [
            "Guess a number between 1 and 20: 10\n",
            "Too low\n",
            "Guess a number between 1 and 20: 5\n",
            "Too low\n",
            "Guess a number between 1 and 20: 17\n",
            "Too high\n",
            "Guess a number between 1 and 20: 15\n",
            "Too high\n",
            "Guess a number between 1 and 20: 13\n",
            "Correct\n"
          ]
        }
      ]
    },
    {
      "cell_type": "markdown",
      "source": [
        "## Standard template for writing programs in python!\n",
        "*   imports\n",
        "*   function\n",
        "*   initial values for the variables\n",
        "*   main functionality"
      ],
      "metadata": {
        "id": "Iv8RD37dpglM"
      }
    },
    {
      "cell_type": "markdown",
      "source": [
        "Prompt: shortly explain the difference between *args\n",
        "** kwargs, provide and example for each."
      ],
      "metadata": {
        "id": "hvjlE44eqDJV"
      }
    },
    {
      "cell_type": "code",
      "source": [
        "#Pick the evens of a list of desired length\n",
        "def pick_even(*args):\n",
        "    def is_even(num: int)-> bool:\n",
        "        return num%2 == 0\n",
        "    evens = []\n",
        "    for item in args:\n",
        "        if is_even(item):\n",
        "            evens.append(item)\n",
        "    return evens"
      ],
      "metadata": {
        "id": "nrvvJ3iySEF-"
      },
      "execution_count": null,
      "outputs": []
    },
    {
      "cell_type": "code",
      "source": [
        "def surface_or_surround(**kwargs):\n",
        "    if \"radius\" in kwargs:\n",
        "        r = kwargs['radius']\n",
        "        return 'the surrounding area is: ', 2 * r * 3.14\n",
        "    if 'length' in kwargs:\n",
        "        return 'the rectangle surface is: ', kwargs['length'] * kwargs['height']"
      ],
      "metadata": {
        "id": "Zypm_yWZTAgq"
      },
      "execution_count": null,
      "outputs": []
    },
    {
      "cell_type": "code",
      "source": [
        "#Power\n",
        "exp, res = surface_or_surround(radius = 5)\n",
        "print(exp, round(res, 4), sep=',')"
      ],
      "metadata": {
        "colab": {
          "base_uri": "https://localhost:8080/"
        },
        "id": "pEFwaHVuUdx-",
        "outputId": "f0464cc4-effd-4805-9792-38994f9b9f1f"
      },
      "execution_count": null,
      "outputs": [
        {
          "output_type": "stream",
          "name": "stdout",
          "text": [
            "the surrounding area is: ,31.4\n"
          ]
        }
      ]
    },
    {
      "cell_type": "markdown",
      "source": [
        "Prompt: shortly explain the functioanlity of anonymous functions, provide an example."
      ],
      "metadata": {
        "id": "0n1w2E7iqhSL"
      }
    },
    {
      "cell_type": "code",
      "source": [
        "#Retrun the squred of a list using Anonymous Functions\n",
        "def squred(num: int)-> int:\n",
        "    return num ** 2\n",
        "\n",
        "squred_entity = map(squred, [x for x in range(10)])\n",
        "squred_anonymous = map(lambda num: num **2, [x for x in range(10)])"
      ],
      "metadata": {
        "id": "oryJ5MMjWZ6W"
      },
      "execution_count": null,
      "outputs": []
    },
    {
      "cell_type": "code",
      "source": [
        "#Test\n",
        "# it only calculates when called so it does not allocate space for the lists\n",
        "print(list(squred_entity))\n",
        "print(list(squred_anonymous))\n",
        "print(list(squred_anonymous))\n"
      ],
      "metadata": {
        "colab": {
          "base_uri": "https://localhost:8080/"
        },
        "id": "bLyNQP4EW_cW",
        "outputId": "293afab3-7311-42c7-c485-716e104c9818"
      },
      "execution_count": null,
      "outputs": [
        {
          "output_type": "stream",
          "name": "stdout",
          "text": [
            "[0, 1, 4, 9, 16, 25, 36, 49, 64, 81]\n",
            "[0, 1, 4, 9, 16, 25, 36, 49, 64, 81]\n",
            "[]\n"
          ]
        }
      ]
    },
    {
      "cell_type": "code",
      "source": [
        "# Write a program to filterout the integers of a list\n",
        "combined = [0, 1, 4.2, 9.0, 16, 25, 36.73, 49, 64, 81.15]\n",
        "def is_integer(num:int)-> bool:\n",
        "    return num == int(num)\n",
        "\n",
        "integers = filter(is_integer, combined)\n",
        "print(integers)\n",
        "print(list(integers))\n",
        "\n",
        "integers_2 = map(lambda x: int(x) == x,combined )\n",
        "print(list(integers_2))\n",
        "\n",
        "integers_3 = filter(lambda x: int(x) == x,combined )\n",
        "print(list(integers_3))"
      ],
      "metadata": {
        "colab": {
          "base_uri": "https://localhost:8080/"
        },
        "id": "XVhDL6qaYQ7B",
        "outputId": "7cedff95-65bd-4603-d48b-f565a34d3f97"
      },
      "execution_count": null,
      "outputs": [
        {
          "output_type": "stream",
          "name": "stdout",
          "text": [
            "<filter object at 0x7f7d85cdfeb0>\n",
            "[0, 1, 9.0, 16, 25, 49, 64]\n",
            "[True, True, False, True, True, True, False, True, True, False]\n",
            "[0, 1, 9.0, 16, 25, 49, 64]\n"
          ]
        }
      ]
    },
    {
      "cell_type": "code",
      "source": [
        "names = ['jack', 'john', 'ela', 'danial', 'dreck']\n",
        "long_names = filter(lambda x: len(x)> 4, names)\n",
        "print(list(long_names))"
      ],
      "metadata": {
        "colab": {
          "base_uri": "https://localhost:8080/"
        },
        "id": "8tCIWznXgUVh",
        "outputId": "37e4b60b-1199-4369-fc92-473e7e8c28ba"
      },
      "execution_count": null,
      "outputs": [
        {
          "output_type": "stream",
          "name": "stdout",
          "text": [
            "['danial', 'dreck']\n"
          ]
        }
      ]
    },
    {
      "cell_type": "markdown",
      "source": [
        "#Inheritance\n",
        "Prompt: shortly explain the concept and implementation of inheritance in OOP, provide an example."
      ],
      "metadata": {
        "id": "GsCFtlFZm5y0"
      }
    },
    {
      "cell_type": "code",
      "source": [
        "# Write a book class and write a educational book class that inherits from it\n",
        "class Book:\n",
        "    def __init__(self, name, pages):\n",
        "        self.name = name\n",
        "        self.pages = pages\n",
        "    def descibe(self):\n",
        "        print(f'the book name is: {self.name}, and it has {self.pages} pages')"
      ],
      "metadata": {
        "id": "4-UuGcaDkz-L"
      },
      "execution_count": null,
      "outputs": []
    },
    {
      "cell_type": "code",
      "source": [
        "#Test\n",
        "b1= Book('The Alchemist', 200)\n",
        "b1.descibe()"
      ],
      "metadata": {
        "colab": {
          "base_uri": "https://localhost:8080/"
        },
        "id": "p9Rc_v2Amyrj",
        "outputId": "e0007a20-0d27-4ad2-9f9e-1e07232d29a7"
      },
      "execution_count": null,
      "outputs": [
        {
          "output_type": "stream",
          "name": "stdout",
          "text": [
            "the book name is: The Alchemist, and it has 200 pages\n"
          ]
        }
      ]
    },
    {
      "cell_type": "code",
      "source": [
        "class Educational(Book):\n",
        "    def __init__(self, name, pages, major, university):\n",
        "        Book.__init__(self, name, pages)\n",
        "        self.major = major\n",
        "        self.university = university\n",
        "    def describe(self):\n",
        "        print(f'The educational book name is {self.name}, it has {self.pages} pages and in {self.university} in {self.major}')"
      ],
      "metadata": {
        "id": "u_jQOqu7lp6G"
      },
      "execution_count": null,
      "outputs": []
    },
    {
      "cell_type": "code",
      "source": [
        "#Test\n",
        "eb = Educational('The Alchemist', 200, 'Philosophy', 'Harvard')\n",
        "eb.describe()"
      ],
      "metadata": {
        "colab": {
          "base_uri": "https://localhost:8080/"
        },
        "id": "zBp8ATyfmZFf",
        "outputId": "9fd1f1b7-3dcb-412e-bf74-1509d32f02e1"
      },
      "execution_count": null,
      "outputs": [
        {
          "output_type": "stream",
          "name": "stdout",
          "text": [
            "The educational book name is The Alchemist, it has 200 pages and in Harvard in Philosophy\n"
          ]
        }
      ]
    },
    {
      "cell_type": "markdown",
      "source": [
        "#Polymorphism\n",
        "Prompt: shortly explain the concept and implementation of inheritance in OOP, provide an example."
      ],
      "metadata": {
        "id": "Y1nPFfudoMuu"
      }
    },
    {
      "cell_type": "code",
      "source": [
        "class Student:\n",
        "    def __init__(self, name, age):\n",
        "        self.name = name\n",
        "        self.age = age\n",
        "    def action(self):\n",
        "        print(f'My name is {self.name} and while I am {self.age} years old I just study')\n",
        "\n",
        "class Employee:\n",
        "    def __init__(self, name, age):\n",
        "        self.name = name\n",
        "        self.age = age\n",
        "    def action(self):\n",
        "        print(f'My name is {self.name} and while I am {self.age} years old I just work')"
      ],
      "metadata": {
        "id": "uZdqYEiXm3LE"
      },
      "execution_count": null,
      "outputs": []
    },
    {
      "cell_type": "code",
      "source": [
        "def show_what_doing(object):\n",
        "    object.action()\n",
        "for person in [Student('Jack', 20), Employee('John', 30)]:\n",
        "    show_what_doing(person)"
      ],
      "metadata": {
        "colab": {
          "base_uri": "https://localhost:8080/"
        },
        "id": "gTR_VMkio3UC",
        "outputId": "5455d8cb-5a6b-4640-dc1c-e2965533679d"
      },
      "execution_count": null,
      "outputs": [
        {
          "output_type": "stream",
          "name": "stdout",
          "text": [
            "My name is Jack and while I am 20 years old I just study\n",
            "My name is John and while I am 30 years old I just work\n"
          ]
        }
      ]
    },
    {
      "cell_type": "markdown",
      "source": [
        "Practical example you can have super class named file, and different types of file inherit from it but they have different show function. even with the same name it works"
      ],
      "metadata": {
        "id": "AtsxnwJupI_B"
      }
    },
    {
      "cell_type": "markdown",
      "source": [
        "#Abstract classes\n",
        "\n",
        "Prompt: shortly explain the concept and implementation of Abstract classes in OOP, provide an example."
      ],
      "metadata": {
        "id": "v1fwA24QqZ4W"
      }
    },
    {
      "cell_type": "code",
      "source": [
        "class Human:\n",
        "    def __init__(self, name, age):\n",
        "        self.name = name\n",
        "        self.age = age\n",
        "    def action(self):\n",
        "        raise NotImplementedError('Subclass must implement abstract method')\n",
        "\n",
        "class Student(Human):\n",
        "    def action(self):\n",
        "        print(f'My name is {self.name} and while I am {self.age} years old I just study')"
      ],
      "metadata": {
        "id": "Nb_Tl6iJqYV0"
      },
      "execution_count": null,
      "outputs": []
    },
    {
      "cell_type": "code",
      "source": [
        "# Test\n",
        "s = Student('Jack', 20)\n",
        "s.action()\n",
        "\n",
        "h = Human('Jack', 20)\n",
        "h.action()"
      ],
      "metadata": {
        "colab": {
          "base_uri": "https://localhost:8080/",
          "height": 287
        },
        "id": "XMTVAj9eq5Va",
        "outputId": "8ec4b459-b7b3-4658-b104-25a144da0107"
      },
      "execution_count": null,
      "outputs": [
        {
          "output_type": "stream",
          "name": "stdout",
          "text": [
            "My name is Jack and while I am 20 years old I just study\n"
          ]
        },
        {
          "output_type": "error",
          "ename": "NotImplementedError",
          "evalue": "Subclass must implement abstract method",
          "traceback": [
            "\u001b[0;31m---------------------------------------------------------------------------\u001b[0m",
            "\u001b[0;31mNotImplementedError\u001b[0m                       Traceback (most recent call last)",
            "\u001b[0;32m/tmp/ipython-input-1444037920.py\u001b[0m in \u001b[0;36m<cell line: 0>\u001b[0;34m()\u001b[0m\n\u001b[1;32m      4\u001b[0m \u001b[0;34m\u001b[0m\u001b[0m\n\u001b[1;32m      5\u001b[0m \u001b[0mh\u001b[0m \u001b[0;34m=\u001b[0m \u001b[0mHuman\u001b[0m\u001b[0;34m(\u001b[0m\u001b[0;34m'Jack'\u001b[0m\u001b[0;34m,\u001b[0m \u001b[0;36m20\u001b[0m\u001b[0;34m)\u001b[0m\u001b[0;34m\u001b[0m\u001b[0;34m\u001b[0m\u001b[0m\n\u001b[0;32m----> 6\u001b[0;31m \u001b[0mh\u001b[0m\u001b[0;34m.\u001b[0m\u001b[0maction\u001b[0m\u001b[0;34m(\u001b[0m\u001b[0;34m)\u001b[0m\u001b[0;34m\u001b[0m\u001b[0;34m\u001b[0m\u001b[0m\n\u001b[0m",
            "\u001b[0;32m/tmp/ipython-input-2303674323.py\u001b[0m in \u001b[0;36maction\u001b[0;34m(self)\u001b[0m\n\u001b[1;32m      4\u001b[0m         \u001b[0mself\u001b[0m\u001b[0;34m.\u001b[0m\u001b[0mage\u001b[0m \u001b[0;34m=\u001b[0m \u001b[0mage\u001b[0m\u001b[0;34m\u001b[0m\u001b[0;34m\u001b[0m\u001b[0m\n\u001b[1;32m      5\u001b[0m     \u001b[0;32mdef\u001b[0m \u001b[0maction\u001b[0m\u001b[0;34m(\u001b[0m\u001b[0mself\u001b[0m\u001b[0;34m)\u001b[0m\u001b[0;34m:\u001b[0m\u001b[0;34m\u001b[0m\u001b[0;34m\u001b[0m\u001b[0m\n\u001b[0;32m----> 6\u001b[0;31m         \u001b[0;32mraise\u001b[0m \u001b[0mNotImplementedError\u001b[0m\u001b[0;34m(\u001b[0m\u001b[0;34m'Subclass must implement abstract method'\u001b[0m\u001b[0;34m)\u001b[0m\u001b[0;34m\u001b[0m\u001b[0;34m\u001b[0m\u001b[0m\n\u001b[0m",
            "\u001b[0;31mNotImplementedError\u001b[0m: Subclass must implement abstract method"
          ]
        }
      ]
    },
    {
      "cell_type": "markdown",
      "source": [
        "An exmaple if you would like to implement the TCP you should inherit from the Net and must implement the TCP.send() because it raises the NotImplementedError"
      ],
      "metadata": {
        "id": "7wDF2XysrMSc"
      }
    },
    {
      "cell_type": "markdown",
      "source": [
        "#Dunder Methods\\Special\\magice\n",
        "Prompt: shortly explain the concept and implementation of dunder methods in python, provide an example."
      ],
      "metadata": {
        "id": "hwZWeY1arh48"
      }
    },
    {
      "cell_type": "code",
      "source": [
        "class Book:\n",
        "    def __init__(self, name = 'Unkonwn', pages = 0):\n",
        "        self.name = name\n",
        "        self.pages = pages\n",
        "    def __str__(self):\n",
        "        return f'the book name is: {self.name}, and it has {self.pages} pages'\n",
        "    def __len__(self):\n",
        "        return self.pages\n",
        "    def __del__ (self):\n",
        "        print(f\"Oh the {self.name} book is deleted. \")\n"
      ],
      "metadata": {
        "id": "3mjINL6kt6J5"
      },
      "execution_count": null,
      "outputs": []
    },
    {
      "cell_type": "code",
      "source": [
        "#Test\n",
        "b1= Book('The Alchemist', 200)\n",
        "b2 = Book()\n",
        "del(b2)\n",
        "print(b1)\n",
        "print(len(b1))\n",
        "print(str(b1))\n",
        "\n",
        "print(b2)\n",
        "print(len(b2))\n",
        "print(str(b2))\n",
        "\n",
        "b2.__del__()\n",
        "print(b2)\n",
        "\n"
      ],
      "metadata": {
        "colab": {
          "base_uri": "https://localhost:8080/",
          "height": 305
        },
        "id": "7uGHk_GX9_Qf",
        "outputId": "bc029241-72b2-48b1-bd70-259cfd899c45"
      },
      "execution_count": null,
      "outputs": [
        {
          "output_type": "stream",
          "name": "stdout",
          "text": [
            "Oh the The Alchemist book is deleted. \n",
            "Oh the Unkonwn book is deleted. \n",
            "the book name is: The Alchemist, and it has 200 pages\n",
            "200\n",
            "the book name is: The Alchemist, and it has 200 pages\n"
          ]
        },
        {
          "output_type": "error",
          "ename": "NameError",
          "evalue": "name 'b2' is not defined",
          "traceback": [
            "\u001b[0;31m---------------------------------------------------------------------------\u001b[0m",
            "\u001b[0;31mNameError\u001b[0m                                 Traceback (most recent call last)",
            "\u001b[0;32m/tmp/ipython-input-3392183321.py\u001b[0m in \u001b[0;36m<cell line: 0>\u001b[0;34m()\u001b[0m\n\u001b[1;32m      7\u001b[0m \u001b[0mprint\u001b[0m\u001b[0;34m(\u001b[0m\u001b[0mstr\u001b[0m\u001b[0;34m(\u001b[0m\u001b[0mb1\u001b[0m\u001b[0;34m)\u001b[0m\u001b[0;34m)\u001b[0m\u001b[0;34m\u001b[0m\u001b[0;34m\u001b[0m\u001b[0m\n\u001b[1;32m      8\u001b[0m \u001b[0;34m\u001b[0m\u001b[0m\n\u001b[0;32m----> 9\u001b[0;31m \u001b[0mprint\u001b[0m\u001b[0;34m(\u001b[0m\u001b[0mb2\u001b[0m\u001b[0;34m)\u001b[0m\u001b[0;34m\u001b[0m\u001b[0;34m\u001b[0m\u001b[0m\n\u001b[0m\u001b[1;32m     10\u001b[0m \u001b[0mprint\u001b[0m\u001b[0;34m(\u001b[0m\u001b[0mlen\u001b[0m\u001b[0;34m(\u001b[0m\u001b[0mb2\u001b[0m\u001b[0;34m)\u001b[0m\u001b[0;34m)\u001b[0m\u001b[0;34m\u001b[0m\u001b[0;34m\u001b[0m\u001b[0m\n\u001b[1;32m     11\u001b[0m \u001b[0mprint\u001b[0m\u001b[0;34m(\u001b[0m\u001b[0mstr\u001b[0m\u001b[0;34m(\u001b[0m\u001b[0mb2\u001b[0m\u001b[0;34m)\u001b[0m\u001b[0;34m)\u001b[0m\u001b[0;34m\u001b[0m\u001b[0;34m\u001b[0m\u001b[0m\n",
            "\u001b[0;31mNameError\u001b[0m: name 'b2' is not defined"
          ]
        }
      ]
    },
    {
      "cell_type": "markdown",
      "source": [
        "#Packages\n",
        "Prompt: shortly explain the concept/implementation of libraries, packages, their difference."
      ],
      "metadata": {
        "id": "mxd6jM_IAfCG"
      }
    },
    {
      "cell_type": "code",
      "source": [
        "packages __init__().py\n",
        "tree\n",
        "beautiful soup"
      ],
      "metadata": {
        "id": "Nx444wDhOGsg"
      },
      "execution_count": null,
      "outputs": []
    },
    {
      "cell_type": "markdown",
      "source": [
        "#Webscraping\n",
        "Prompt: shortly explain the concept/implementation of webscraping methods"
      ],
      "metadata": {
        "id": "CQk92VGtJ0Ga"
      }
    },
    {
      "cell_type": "code",
      "source": [
        "!pip install lxml\n",
        "!pip install requests\n",
        "!pip install bs4"
      ],
      "metadata": {
        "colab": {
          "base_uri": "https://localhost:8080/"
        },
        "id": "3b61TilOJzMd",
        "outputId": "a3d09ada-5286-4d36-809c-a1f08a10bf17"
      },
      "execution_count": 2,
      "outputs": [
        {
          "output_type": "stream",
          "name": "stdout",
          "text": [
            "Requirement already satisfied: lxml in /usr/local/lib/python3.12/dist-packages (5.4.0)\n",
            "\u001b[31mERROR: Could not find a version that satisfies the requirement request (from versions: none)\u001b[0m\u001b[31m\n",
            "\u001b[0m\u001b[31mERROR: No matching distribution found for request\u001b[0m\u001b[31m\n",
            "\u001b[0mCollecting bs4\n",
            "  Downloading bs4-0.0.2-py2.py3-none-any.whl.metadata (411 bytes)\n",
            "Requirement already satisfied: beautifulsoup4 in /usr/local/lib/python3.12/dist-packages (from bs4) (4.13.5)\n",
            "Requirement already satisfied: soupsieve>1.2 in /usr/local/lib/python3.12/dist-packages (from beautifulsoup4->bs4) (2.8)\n",
            "Requirement already satisfied: typing-extensions>=4.0.0 in /usr/local/lib/python3.12/dist-packages (from beautifulsoup4->bs4) (4.15.0)\n",
            "Downloading bs4-0.0.2-py2.py3-none-any.whl (1.2 kB)\n",
            "Installing collected packages: bs4\n",
            "Successfully installed bs4-0.0.2\n"
          ]
        }
      ]
    },
    {
      "cell_type": "markdown",
      "source": [
        "Sockets\n",
        "urllib\n",
        "requests"
      ],
      "metadata": {
        "id": "9dj5ZGGfUE-9"
      }
    },
    {
      "cell_type": "code",
      "source": [
        "import requests\n",
        "req = requests.get('https://hossenkhodadadi.github.io/')\n",
        "# Search http response codes 2 ok, 3 redirect, 4 your problem, 5 server error\n",
        "# Search http response cat\n",
        "print(req)\n",
        "type(req)\n",
        "req.text"
      ],
      "metadata": {
        "colab": {
          "base_uri": "https://localhost:8080/",
          "height": 178
        },
        "id": "iSiiibHvUHzS",
        "outputId": "f649cac3-d1d8-48ec-c0de-e7d9eca344c4"
      },
      "execution_count": 15,
      "outputs": [
        {
          "output_type": "stream",
          "name": "stdout",
          "text": [
            "<Response [200]>\n"
          ]
        },
        {
          "output_type": "execute_result",
          "data": {
            "text/plain": [
              "'<!DOCTYPE html>\\n<html lang=\"en\">\\n<head>\\n    <meta charset=\"UTF-8\">\\n    <meta name=\"viewport\" content=\"width=device-width, initial-scale=1.0\">\\n    <meta name=\"viewport\" content=\"width=device-width, initial-scale=1.0\">\\n    <title>My Personal Page</title>\\n    <link rel=\"stylesheet\" href=\"assets/css/style.css\">\\n    <link rel=\"icon\" href=\"images/x-icon.webp\" type=\"image/x-icon\">\\n    <link rel=\"stylesheet\" href=\"https://cdnjs.cloudflare.com/ajax/libs/font-awesome/6.0.0-beta3/css/all.min.css\">\\n    <script src=\"https://cdn.jsdelivr.net/particles.js/2.0.0/particles.min.js\"></script>\\n\\n</head>\\n<body>\\n    <header>\\n        <div class=\"hamburger-menu\" id=\"hamburger-menu\">\\n            <div class=\"hamburger-line\"></div>\\n            <div class=\"hamburger-line\"></div>\\n            <div class=\"hamburger-line\"></div>\\n        </div>\\n        <nav id=\"nav-menu\">\\n            <ul>\\n                <li><a href=\"#home\">Home</a></li>\\n                <li><a href=\"#about\">About</a></li>\\n                <li><a href=\"#education\">Education</a></li>\\n                <li><a href=\"#projects\">Projects</a></li>\\n                <li><a href=\"#articles\">Articles</a></li>\\n                <li><a href=\"#skills\">Skills</a></li>\\n                <li><a href=\"#contact\">Contact</a></li>\\n            </ul>\\n        </nav>\\n    </header>\\n\\n    <section id=\"home\" class=\"section\">\\n        <div class=\"overlay\">\\n            <p1>my name is</p1>\\n            <h1>Hossein Khodadadi</h1>\\n            <p>I am a passionate Data Science enthusiast, trying to expand my skills in Software Engineering. Currently I\\'m studying Data Science at Politecnico di Torino. Please scroll down to know more about me.</p>\\n            <div class=\"social-icons\">\\n                <a href=\"https://x.com/HoseineKhodadad\" target=\"_blank\"><i class=\"fab fa-twitter\"></i> X</a>\\n                <a href=\"https://github.com/HOSSENkhodadadi\" target=\"_blank\"><i class=\"fab fa-github\"></i> GitHub</a>\\n                <a href=\"https://www.linkedin.com/in/hosseinekhodadadi/\" target=\"_blank\"><i class=\"fab fa-linkedin\"></i> LinkedIn</a>\\n                <a href=\"mailto:hosseinekhodadadi@gmail.com\"><i class=\"fas fa-envelope\"></i> Email</a>\\n            </div>\\n            <div class=\"scroll-down\">\\n                <a href=\"#about\">&#x25BC;</a>\\n            </div>\\n        </div>\\n    </section>\\n\\n    <section id=\"about\" class=\"about-section\">\\n        <div id=\"particles-js\"></div>\\n        <div class=\"container\">\\n            <div class=\"about-content\">\\n                <div class=\"about-image\">\\n                    <img src=\"images/me.jpeg\" alt=\"Your Name\">\\n                </div>\\n                <div class=\"about-info\">\\n                    <h2>About Me</h2>\\n                    <p>Hello! I\\'m Hossein Khodadadi.I\\'m a Master\\'s student in Data Science and Engineering at Politecnico di Torino, passionate about Machine Learning, NLP, and Software Engineering. Lately, I\\'ve been diving deep into Large Language Models and Computational Intelligence. I started my journey with a Bachelor\\'s in Electrical and Telecommunication Engineering, ranking in the top 5 of my class (GPA: 3.54/4) at one of top universities in my home country. I\\'m always eager to learn, grow, and tackle new challenges.</p>\\n                    <p>Feel free to explore my projects in Github to know more about my work. I\\'m always open to discussing new opportunities and collaborations.</p>\\n                    <ul class=\"contact-info\">\\n                        <li><strong>Email:</strong> hosseinekhodadadi@gmail.com</li>\\n                        <li><strong>Location:</strong> Torino, Italy</li>\\n                    </ul>\\n                    <a href=\"https://drive.google.com/file/d/1gSjuIKMXe5gDSwhGrFTdDtgqDAC6iuYv/view?usp=sharing\" class=\"btn-cv\" download>Download CV</a>\\n                    <a href=\"https://cal.com/hossein-khodadadi/30min?overlayCalendar=true\" class=\"btn-cv\" download>Let\\'s meet:)</a>\\n                </div>\\n            </div>\\n        </div>\\n    </section>\\n\\n\\n    <script src=\"assets/js/script.js\"></script>\\n\\n    <script>\\n        document.querySelectorAll(\\'a[href^=\"#\"]\\').forEach(anchor => {\\n            anchor.addEventListener(\\'click\\', function(e) {\\n                e.preventDefault();\\n\\n                document.querySelector(this.getAttribute(\\'href\\')).scrollIntoView({\\n                    behavior: \\'smooth\\'\\n                });\\n            });\\n        });\\n    </script>\\n\\n<section id=\"projects\" class=\"projects-section\">\\n    <div class=\"container\">\\n        <h2>Projects</h2>\\n        <div class=\"projects-grid\">\\n\\n\\n            <!-- Project 2 -->\\n            <div class=\"project-card\">\\n                <img src=\"images/project_images/proj_2_AlexNet.png\" alt=\"Project 2\">\\n                <div class=\"project-info\">\\n                    <h3>Caltech Classification and Fine Tuning on AlexNet (Classification, Deep Learning)</h3>\\n                    <p>AlexNet model was used to predict in low data regimes and a large number of classes. different fine-tuning techniques were used to improve the accuracy. Tech: Weights&Biasses, Pytorch</p>\\n                    <a href=\"https://github.com/HOSSENkhodadadi/Projects/tree/main/caltech_classification_fine_tuning_alexNet\" target=\"_blank\" class=\"project-link\">View on GitHub</a>\\n                </div>\\n            </div>\\n\\n            <!-- Project 1 -->\\n            <div class=\"project-card\">\\n                <img src=\"images/project_images/proj1_Agent_2.jpg\" alt=\"Project 1\">\\n                <div class=\"project-info\">\\n                    <h3>Reinforcement Learning on Game Agent Training for Quixo Board Game (RL, Deep RL)</h3>\\n                    <p>Min-Max algorithm was implemented to play Quixo game with 95% win rate against a random player. Tech: Python, Pytorch</p>\\n                    <a href=\"https://github.com/HOSSENkhodadadi/Quixo_Game_Player_Min_Max\" target=\"_blank\" class=\"project-link\">View on GitHub</a>\\n                </div>\\n            </div>\\n\\n\\n            <!-- Project 3 -->\\n            <div class=\"project-card\">\\n                <img src=\"images/project_images/proj3_FL.webp\" alt=\"Project 2\">\\n                <div class=\"project-info\">\\n                    <h3>A Novel Approach for Improving Generalization in Federated Learning Through Corrective Gradient Weights</h3>\\n                    <p>he Federated Learning paradigm was implemented to train a central Neural Network Model without intruding the clients privacy, the model improved by adding the Corrective Gradient Weights . Tech: Python, PyTorch</p>\\n                    <a href=\"https://github.com/HOSSENkhodadadi/Projects/tree/main/A%20Novel%20Approach%20for%20Improving%20Generalization%20in%20Federated\" target=\"_blank\" class=\"project-link\">View on GitHub</a>\\n                </div>\\n            </div>\\n\\n            <!-- Project 3 -->\\n            <div class=\"project-card\">\\n                <img src=\"images/project_images/proj4_mfcc.png\" alt=\"Project 2\">\\n                <div class=\"project-info\">\\n                    <h3>Audio Intent Detection Using MFCC</h3>\\n                    <p>A deep learning model was designed to classify audio files using MFCC method. Tech: Python, TensorFlow, Keras.</p>\\n                    <a href=\"https://github.com/HOSSENkhodadadi/Projects/tree/main/Intent%20Detection%20on%20the%20Fluent%20Speech%20Commands\" target=\"_blank\" class=\"project-link\">View on GitHub</a>\\n                </div>\\n            </div>\\n\\n            <!-- More project cards can be added similarly -->\\n        </div>\\n    </div>\\n</section>\\n<!-- Articles Section -->\\n<section id=\"articles\" class=\"articles-section\">\\n    <div id=\"particles-js-articles\"></div>\\n    <div class=\"container\">\\n        <h2>Articles</h2>\\n        <div class=\"articles-grid\">\\n            <!-- Article 1 -->\\n            <div class=\"article-card\">\\n                <img src=\"images/project_images/proj3_FL.webp\" alt=\"Federated Learning Article\">\\n                <div class=\"article-info\">\\n                    <h3>Improving Generalization in Federated Learning Through Corrective Gradient Weights</h3>\\n                    <p>An in-depth exploration of how corrective gradient weights can enhance model generalization in federated learning environments, addressing privacy-preserving machine learning challenges.</p>\\n                    <div class=\"article-meta\">\\n                        <span class=\"article-date\">Published: March 15, 2024</span>\\n                    </div>\\n                    <a href=\"articles/federated-learning-article.html\" class=\"article-link\">Read Full Article</a>\\n                </div>\\n            </div>\\n\\n            <!-- Article 2 -->\\n            <div class=\"article-card\">\\n                <img src=\"images/project_images/proj_2_AlexNet.png\" alt=\"Deep Learning Article\">\\n                <div class=\"article-info\">\\n                    <h3>Fine-Tuning Strategies for Deep Learning Models in Low-Data Regimes</h3>\\n                    <p>A comprehensive guide to effective fine-tuning techniques for neural networks when working with limited datasets, focusing on transfer learning and data augmentation strategies.</p>\\n                    <div class=\"article-meta\">\\n                        <span class=\"article-date\">Published: February 28, 2024</span>\\n                    </div>\\n                    <a href=\"articles/deep-learning-finetuning-article.html\" class=\"article-link\">Read Full Article</a>\\n                </div>\\n            </div>\\n\\n            <!-- Article 3 -->\\n            <div class=\"article-card\">\\n                <img src=\"images/project_images/proj4_mfcc.png\" alt=\"Audio Processing Article\">\\n                <div class=\"article-info\">\\n                    <h3>Audio Intent Detection Using MFCC: A Deep Learning Approach</h3>\\n                    <p>Exploring the application of Mel-Frequency Cepstral Coefficients (MFCC) in audio processing for intent detection, covering feature extraction and neural network architectures.</p>\\n                    <div class=\"article-meta\">\\n                        <span class=\"article-date\">Published: February 10, 2024</span>\\n                    </div>\\n                    <a href=\"articles/audio-intent-detection-article.html\" class=\"article-link\">Read Full Article</a>\\n                </div>\\n            </div>\\n\\n            <!-- Article 4 -->\\n            <div class=\"article-card\">\\n                <img src=\"images/project_images/proj1_Agent_2.jpg\" alt=\"Reinforcement Learning Article\">\\n                <div class=\"article-info\">\\n                    <h3>Reinforcement Learning in Board Games: A Min-Max Approach</h3>\\n                    <p>An analysis of implementing reinforcement learning algorithms for board game AI, with practical examples from the Quixo game implementation and performance optimization techniques.</p>\\n                    <div class=\"article-meta\">\\n                        <span class=\"article-date\">Published: January 22, 2024</span>\\n                    </div>\\n                    <a href=\"articles/reinforcement-learning-games-article.html\" class=\"article-link\">Read Full Article</a>\\n                </div>\\n            </div>\\n        </div>\\n    </div>\\n</section>\\n<!-- Education Section -->\\n<section id=\"education\" class=\"education-section\">\\n    <div id=\"particles-js-education\"></div>\\n    <div class=\"container\">\\n        <h2>Education</h2>\\n        <div class=\"education-timeline\">\\n            <div class=\"education-item\">\\n                <div class=\"education-year\">2022 - Present</div>\\n                <div class=\"education-content\">\\n                    <h3>Master\\'s Degree in Data Science and Engineering</h3>\\n                    <h4>Politecnico di Torino, Italy</h4>\\n                    <p>Specializing in Machine Learning, Natural Language Processing, and Software Engineering. Currently pursuing advanced studies in Large Language Models and Computational Intelligence.</p>\\n                    <ul class=\"education-details\">\\n                        <li>Focus: Machine Learning, NLP, Deep Learning</li>\\n                        <li>Research: Federated Learning, Computer Vision</li>\\n                        <li>Languages: Python, R, SQL, JavaScript</li>\\n                    </ul>\\n                </div>\\n            </div>\\n            \\n            <div class=\"education-item\">\\n                <div class=\"education-year\">2018 - 2022</div>\\n                <div class=\"education-content\">\\n                    <h3>Bachelor\\'s Degree in Electrical and Telecommunication Engineering</h3>\\n                    <h4>Top University in Home Country</h4>\\n                    <p>Graduated in the top 5 of the class with a GPA of 3.54/4.0. Focused on signal processing, telecommunications, and embedded systems.</p>\\n                    <ul class=\"education-details\">\\n                        <li>GPA: 3.54/4.0 (Top 5% of class)</li>\\n                        <li>Focus: Signal Processing, Embedded Systems</li>\\n                        <li>Languages: C++, MATLAB, Verilog</li>\\n                    </ul>\\n                </div>\\n            </div>\\n        </div>\\n    </div>\\n</section>\\n\\n<!-- Skills Section -->\\n<section id=\"skills\" class=\"skills-section\">\\n    <div id=\"particles-js-skills\"></div>\\n    <div class=\"container\">\\n        <h2>Skills</h2>\\n        <div class=\"skills-grid\">\\n            <div class=\"skill-category\">\\n                <h3>Programming Languages</h3>\\n                <div class=\"skill-items\">\\n                    <div class=\"skill-item\">\\n                        <span class=\"skill-name\">Python</span>\\n                        <div class=\"skill-bar\">\\n                            <div class=\"skill-progress\" style=\"width: 95%\"></div>\\n                        </div>\\n                    </div>\\n                    <div class=\"skill-item\">\\n                        <span class=\"skill-name\">R</span>\\n                        <div class=\"skill-bar\">\\n                            <div class=\"skill-progress\" style=\"width: 20%\"></div>\\n                        </div>\\n                    </div>\\n                    <div class=\"skill-item\">\\n                        <span class=\"skill-name\">SQL</span>\\n                        <div class=\"skill-bar\">\\n                            <div class=\"skill-progress\" style=\"width: 70%\"></div>\\n                        </div>\\n                    </div>\\n                    <div class=\"skill-item\">\\n                        <span class=\"skill-name\">JavaScript</span>\\n                        <div class=\"skill-bar\">\\n                            <div class=\"skill-progress\" style=\"width: 40%\"></div>\\n                        </div>\\n                    </div>\\n                    <div class=\"skill-item\">\\n                        <span class=\"skill-name\">C++</span>\\n                        <div class=\"skill-bar\">\\n                            <div class=\"skill-progress\" style=\"width: 80%\"></div>\\n                        </div>\\n                    </div>\\n                </div>\\n            </div>\\n            \\n            <div class=\"skill-category\">\\n                <h3>Machine Learning & AI</h3>\\n                <div class=\"skill-items\">\\n                    <div class=\"skill-item\">\\n                        <span class=\"skill-name\">Deep Learning</span>\\n                        <div class=\"skill-bar\">\\n                            <div class=\"skill-progress\" style=\"width: 90%\"></div>\\n                        </div>\\n                    </div>\\n                    <div class=\"skill-item\">\\n                        <span class=\"skill-name\">NLP</span>\\n                        <div class=\"skill-bar\">\\n                            <div class=\"skill-progress\" style=\"width: 90%\"></div>\\n                        </div>\\n                    </div>\\n                    <div class=\"skill-item\">\\n                        <span class=\"skill-name\">Computer Vision</span>\\n                        <div class=\"skill-bar\">\\n                            <div class=\"skill-progress\" style=\"width: 70%\"></div>\\n                        </div>\\n                    </div>\\n                    <div class=\"skill-item\">\\n                        <span class=\"skill-name\">Reinforcement Learning</span>\\n                        <div class=\"skill-bar\">\\n                            <div class=\"skill-progress\" style=\"width: 75%\"></div>\\n                        </div>\\n                    </div>\\n                    <div class=\"skill-item\">\\n                        <span class=\"skill-name\">Federated Learning</span>\\n                        <div class=\"skill-bar\">\\n                            <div class=\"skill-progress\" style=\"width: 85%\"></div>\\n                        </div>\\n                    </div>\\n                </div>\\n            </div>\\n            \\n            <div class=\"skill-category\">\\n                <h3>Frameworks & Tools</h3>\\n                <div class=\"skill-items\">\\n                    <div class=\"skill-item\">\\n                        <span class=\"skill-name\">PyTorch</span>\\n                        <div class=\"skill-bar\">\\n                            <div class=\"skill-progress\" style=\"width: 90%\"></div>\\n                        </div>\\n                    </div>\\n                    <div class=\"skill-item\">\\n                        <span class=\"skill-name\">TensorFlow</span>\\n                        <div class=\"skill-bar\">\\n                            <div class=\"skill-progress\" style=\"width: 85%\"></div>\\n                        </div>\\n                    </div>\\n                    <div class=\"skill-item\">\\n                        <span class=\"skill-name\">Scikit-learn</span>\\n                        <div class=\"skill-bar\">\\n                            <div class=\"skill-progress\" style=\"width: 95%\"></div>\\n                        </div>\\n                    </div>\\n                    <div class=\"skill-item\">\\n                        <span class=\"skill-name\">Pandas & NumPy</span>\\n                        <div class=\"skill-bar\">\\n                            <div class=\"skill-progress\" style=\"width: 95%\"></div>\\n                        </div>\\n                    </div>\\n                    <div class=\"skill-item\">\\n                        <span class=\"skill-name\">Git & GitHub</span>\\n                        <div class=\"skill-bar\">\\n                            <div class=\"skill-progress\" style=\"width: 85%\"></div>\\n                        </div>\\n                    </div>\\n                </div>\\n            </div>\\n        </div>\\n    </div>\\n</section>\\n\\n<!-- Contact Section -->\\n<section id=\"contact\" class=\"contact-section\">\\n    <div id=\"particles-js-contact\"></div>\\n    <div class=\"container\">\\n        <h2>Get In Touch</h2>\\n        <div class=\"contact-content\">\\n            <div class=\"contact-info\">\\n                <h3>Let\\'s Connect</h3>\\n                <p>I\\'m always open to discussing new opportunities, collaborations, or just having a chat about data science and technology. Feel free to reach out!</p>\\n                \\n                <div class=\"contact-details\">\\n                    <div class=\"contact-item\">\\n                        <i class=\"fas fa-envelope\"></i>\\n                        <div>\\n                            <h4>Email</h4>\\n                            <p>hosseinekhodadadi@gmail.com</p>\\n                        </div>\\n                    </div>\\n                    \\n                    <div class=\"contact-item\">\\n                        <i class=\"fas fa-map-marker-alt\"></i>\\n                        <div>\\n                            <h4>Location</h4>\\n                            <p>Torino, Italy</p>\\n                        </div>\\n                    </div>\\n                    \\n                    <div class=\"contact-item\">\\n                        <i class=\"fas fa-university\"></i>\\n                        <div>\\n                            <h4>University</h4>\\n                            <p>Politecnico di Torino</p>\\n                        </div>\\n                    </div>\\n                </div>\\n                \\n                <div class=\"social-links\">\\n                    <a href=\"https://github.com/HOSSENkhodadadi\" target=\"_blank\" class=\"social-link\">\\n                        <i class=\"fab fa-github\"></i>\\n                        <span>GitHub</span>\\n                    </a>\\n                    <a href=\"https://www.linkedin.com/in/hosseinekhodadadi/\" target=\"_blank\" class=\"social-link\">\\n                        <i class=\"fab fa-linkedin\"></i>\\n                        <span>LinkedIn</span>\\n                    </a>\\n                    <a href=\"https://x.com/HoseineKhodadad\" target=\"_blank\" class=\"social-link\">\\n                        <i class=\"fab fa-twitter\"></i>\\n                        <span>X</span>\\n                    </a>\\n                    <a href=\"https://drive.google.com/file/d/1gSjuIKMXe5gDSwhGrFTdDtgqDAC6iuYv/view?usp=drive_link\" target=\"_blank\" class=\"social-link\">\\n                        <i class=\"fas fa-file-pdf\"></i>\\n                        <span>CV</span>\\n                    </a>\\n                </div>\\n            </div>\\n            \\n            <div class=\"contact-form\">\\n                <h3>Send me a message</h3>\\n                <form id=\"contactForm\">\\n                    <div class=\"form-group\">\\n                        <input type=\"text\" id=\"name\" name=\"name\" placeholder=\"Your Name\" required>\\n                    </div>\\n                    <div class=\"form-group\">\\n                        <input type=\"email\" id=\"email\" name=\"email\" placeholder=\"Your Email\" required>\\n                    </div>\\n                    <div class=\"form-group\">\\n                        <input type=\"text\" id=\"subject\" name=\"subject\" placeholder=\"Subject\" required>\\n                    </div>\\n                    <div class=\"form-group\">\\n                        <textarea id=\"message\" name=\"message\" placeholder=\"Your Message\" rows=\"5\" required></textarea>\\n                    </div>\\n                    <button type=\"submit\" class=\"submit-btn\">Send Message</button>\\n                </form>\\n            </div>\\n        </div>\\n    </div>\\n</section>\\n</body>\\n</html>\\n'"
            ],
            "application/vnd.google.colaboratory.intrinsic+json": {
              "type": "string"
            }
          },
          "metadata": {},
          "execution_count": 15
        }
      ]
    },
    {
      "cell_type": "code",
      "source": [
        "import bs4\n",
        "structure = bs4.BeautifulSoup(req.text)\n",
        "structure.select('title')\n",
        "head = structure.select('header')\n",
        "head[0]\n",
        "type(head[0])"
      ],
      "metadata": {
        "colab": {
          "base_uri": "https://localhost:8080/",
          "height": 221
        },
        "id": "7QbaeqR5VDXc",
        "outputId": "aac200be-c92f-483a-e89d-5429b1721f7b"
      },
      "execution_count": 21,
      "outputs": [
        {
          "output_type": "execute_result",
          "data": {
            "text/plain": [
              "bs4.element.Tag"
            ],
            "text/html": [
              "<div style=\"max-width:800px; border: 1px solid var(--colab-border-color);\"><style>\n",
              "      pre.function-repr-contents {\n",
              "        overflow-x: auto;\n",
              "        padding: 8px 12px;\n",
              "        max-height: 500px;\n",
              "      }\n",
              "\n",
              "      pre.function-repr-contents.function-repr-contents-collapsed {\n",
              "        cursor: pointer;\n",
              "        max-height: 100px;\n",
              "      }\n",
              "    </style>\n",
              "    <pre style=\"white-space: initial; background:\n",
              "         var(--colab-secondary-surface-color); padding: 8px 12px;\n",
              "         border-bottom: 1px solid var(--colab-border-color);\"><b>bs4.element.Tag</b><br/>def __call__(name: Optional[_StrainableElement]=None, attrs: _StrainableAttributes={}, recursive: bool=True, string: Optional[_StrainableString]=None, limit: Optional[int]=None, _stacklevel: int=2, **kwargs: _StrainableAttribute) -&gt; _QueryResults</pre><pre class=\"function-repr-contents function-repr-contents-collapsed\" style=\"\"><a class=\"filepath\" style=\"display:none\" href=\"#\">/usr/local/lib/python3.12/dist-packages/bs4/element.py</a>An HTML or XML tag that is part of a parse tree, along with its\n",
              "attributes, contents, and relationships to other parts of the tree.\n",
              "\n",
              "When Beautiful Soup parses the markup ``&lt;b&gt;penguin&lt;/b&gt;``, it will\n",
              "create a `Tag` object representing the ``&lt;b&gt;`` tag. You can\n",
              "instantiate `Tag` objects directly, but it&#x27;s not necessary unless\n",
              "you&#x27;re adding entirely new markup to a parsed document. Most of\n",
              "the constructor arguments are intended for use by the `TreeBuilder`\n",
              "that&#x27;s parsing a document.\n",
              "\n",
              ":param parser: A `BeautifulSoup` object representing the parse tree this\n",
              "    `Tag` will be part of.\n",
              ":param builder: The `TreeBuilder` being used to build the tree.\n",
              ":param name: The name of the tag.\n",
              ":param namespace: The URI of this tag&#x27;s XML namespace, if any.\n",
              ":param prefix: The prefix for this tag&#x27;s XML namespace, if any.\n",
              ":param attrs: A dictionary of attribute values.\n",
              ":param parent: The `Tag` to use as the parent of this `Tag`. May be\n",
              "   the `BeautifulSoup` object itself.\n",
              ":param previous: The `PageElement` that was parsed immediately before\n",
              "    parsing this tag.\n",
              ":param is_xml: If True, this is an XML tag. Otherwise, this is an\n",
              "    HTML tag.\n",
              ":param sourceline: The line number where this tag was found in its\n",
              "    source document.\n",
              ":param sourcepos: The character position within ``sourceline`` where this\n",
              "    tag was found.\n",
              ":param can_be_empty_element: If True, this tag should be\n",
              "    represented as &lt;tag/&gt;. If False, this tag should be represented\n",
              "    as &lt;tag&gt;&lt;/tag&gt;.\n",
              ":param cdata_list_attributes: A dictionary of attributes whose values should\n",
              "    be parsed as lists of strings if they ever show up on this tag.\n",
              ":param preserve_whitespace_tags: Names of tags whose contents\n",
              "    should have their whitespace preserved if they are encountered inside\n",
              "    this tag.\n",
              ":param interesting_string_types: When iterating over this tag&#x27;s\n",
              "    string contents in methods like `Tag.strings` or\n",
              "    `PageElement.get_text`, these are the types of strings that are\n",
              "    interesting enough to be considered. By default,\n",
              "    `NavigableString` (normal strings) and `CData` (CDATA\n",
              "    sections) are the only interesting string subtypes.\n",
              ":param namespaces: A dictionary mapping currently active\n",
              "    namespace prefixes to URIs, as of the point in the parsing process when\n",
              "    this tag was encountered. This can be used later to\n",
              "    construct CSS selectors.</pre>\n",
              "      <script>\n",
              "      if (google.colab.kernel.accessAllowed && google.colab.files && google.colab.files.view) {\n",
              "        for (const element of document.querySelectorAll('.filepath')) {\n",
              "          element.style.display = 'block'\n",
              "          element.onclick = (event) => {\n",
              "            event.preventDefault();\n",
              "            event.stopPropagation();\n",
              "            google.colab.files.view(element.textContent, 1578);\n",
              "          };\n",
              "        }\n",
              "      }\n",
              "      for (const element of document.querySelectorAll('.function-repr-contents')) {\n",
              "        element.onclick = (event) => {\n",
              "          event.preventDefault();\n",
              "          event.stopPropagation();\n",
              "          element.classList.toggle('function-repr-contents-collapsed');\n",
              "        };\n",
              "      }\n",
              "      </script>\n",
              "      </div>"
            ]
          },
          "metadata": {},
          "execution_count": 21
        }
      ]
    }
  ]
}